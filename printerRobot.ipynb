{
 "cells": [
  {
   "cell_type": "code",
   "execution_count": 7,
   "metadata": {},
   "outputs": [
    {
     "data": {
      "text/plain": [
       "0"
      ]
     },
     "execution_count": 7,
     "metadata": {},
     "output_type": "execute_result"
    }
   ],
   "source": [
    "import paho.mqtt.client as mqtt\n",
    "\n",
    "def on_connect(client, userdata, flags, rc):\n",
    "    print(\"Connected with result code \"+str(rc))\n",
    "\n",
    "client = mqtt.Client()\n",
    "client.on_connect = on_connect\n",
    "\n",
    "client.connect(\"mqttcar.cloud.shiftr.io\", 443, 60)"
   ]
  },
  {
   "cell_type": "code",
   "execution_count": 1,
   "metadata": {},
   "outputs": [
    {
     "name": "stdout",
     "output_type": "stream",
     "text": [
      "Collecting https://github.com/aparrish/bezmerizing/archive/master.zip\n",
      "  Using cached https://github.com/aparrish/bezmerizing/archive/master.zip\n",
      "Requirement already satisfied, skipping upgrade: flat>=0.0.3 in /Users/yonatanrozin/opt/anaconda3/lib/python3.8/site-packages (from bezmerizing==0.1.1) (0.3.2)\n",
      "Requirement already satisfied, skipping upgrade: scipy>=1.1.0 in /Users/yonatanrozin/opt/anaconda3/lib/python3.8/site-packages (from bezmerizing==0.1.1) (1.5.2)\n",
      "Requirement already satisfied, skipping upgrade: numpy>=1.16.0 in /Users/yonatanrozin/opt/anaconda3/lib/python3.8/site-packages (from bezmerizing==0.1.1) (1.19.2)\n",
      "Building wheels for collected packages: bezmerizing\n",
      "  Building wheel for bezmerizing (setup.py) ... \u001b[?25ldone\n",
      "\u001b[?25h  Created wheel for bezmerizing: filename=bezmerizing-0.1.1-py3-none-any.whl size=17284 sha256=049c2ef373a19030dc0a4544d6cc2ba98bff650fe0f237f394f4846284b2deda\n",
      "  Stored in directory: /private/var/folders/3v/lxt4vwb95zs2ttfnbk5g_pch0000gn/T/pip-ephem-wheel-cache-lymv7u00/wheels/74/5a/7d/4a62c2490b6c6061916e41ae070caaed12664893aef1a56d7c\n",
      "Successfully built bezmerizing\n",
      "Installing collected packages: bezmerizing\n",
      "  Attempting uninstall: bezmerizing\n",
      "    Found existing installation: bezmerizing 0.1.1\n",
      "    Uninstalling bezmerizing-0.1.1:\n",
      "      Successfully uninstalled bezmerizing-0.1.1\n",
      "Successfully installed bezmerizing-0.1.1\n"
     ]
    }
   ],
   "source": [
    "import sys\n",
    "!{sys.executable} -m pip install --upgrade https://github.com/aparrish/bezmerizing/archive/master.zip"
   ]
  },
  {
   "cell_type": "code",
   "execution_count": 2,
   "metadata": {},
   "outputs": [],
   "source": [
    "from flat import font\n",
    "from flat.command import moveto, quadto, curveto, lineto, closepath\n",
    "from bezmerizing import Polyline, Path\n",
    "from copy import copy"
   ]
  },
  {
   "cell_type": "code",
   "execution_count": 3,
   "metadata": {},
   "outputs": [],
   "source": [
    "f1 = font.open('VT323-Regular.ttf')\n",
    "f2 = font.open('Orbitron-Black.ttf')\n"
   ]
  },
  {
   "cell_type": "code",
   "execution_count": 4,
   "metadata": {},
   "outputs": [],
   "source": [
    "def glyphcommands(f, ch):\n",
    "    return Path([copy(cmd) for cmd in f.glyph(f.charmap[ord(ch)])])\n",
    "def advancefor(f, ch):\n",
    "    return f.advances[f.charmap[ord(ch)]]\n"
   ]
  },
  {
   "cell_type": "code",
   "execution_count": 64,
   "metadata": {
    "scrolled": true
   },
   "outputs": [
    {
     "name": "stdout",
     "output_type": "stream",
     "text": [
      "[[null, null], [539, 1000], [327, 1000], [327, 324], [281, 381], [0, 381], [319, 1], [539, 1], [539, 1000], [null, null], [1600, 1000], [619, 1000], [619, 613], [679, 470], [822, 411], [1342, 411], [1388, 411], [1388, 366], [1388, 259], [1388, 213], [1342, 213], [877, 213], [832, 213], [832, 259], [832, 294], [619, 294], [619, 202], [679, 60], [822, 1], [1398, 1], [1540, 60], [1600, 202], [1600, 423], [1540, 565], [1398, 625], [877, 625], [832, 625], [832, 671], [832, 742], [832, 787], [877, 787], [1600, 787], [1600, 1000], [null, null], [2545, 1000], [1968, 1000], [1825, 940], [1765, 798], [1765, 721], [1977, 721], [1977, 742], [1977, 787], [2023, 787], [2488, 787], [2533, 787], [2533, 742], [2533, 649], [2533, 603], [2488, 603], [1929, 603], [1929, 391], [2450, 391], [2496, 391], [2496, 345], [2496, 259], [2496, 213], [2450, 213], [2023, 213], [1977, 213], [1977, 259], [1977, 291], [1765, 291], [1765, 202], [1825, 60], [1968, 1], [2507, 1], [2649, 60], [2708, 202], [2708, 402], [2706, 434], [2700, 466], [2733, 523], [2746, 592], [2746, 798], [2687, 940], [2545, 1000], [null, null], [3656, 1000], [3443, 1000], [3443, 751], [2846, 751], [2846, 561], [3466, 1], [3656, 1], [3656, 538], [3789, 538], [3789, 751], [3656, 751], [3656, 1000], [null, null], [3443, 332], [3191, 538], [3443, 538], [3443, 332], [null, null], [4707, 1000], [4131, 1000], [3988, 940], [3929, 798], [3929, 721], [4141, 721], [4141, 742], [4141, 787], [4187, 787], [4651, 787], [4697, 787], [4697, 742], [4697, 646], [4697, 600], [4651, 600], [3929, 600], [3929, 1], [4909, 1], [4909, 213], [4187, 213], [4141, 213], [4141, 259], [4141, 341], [4141, 386], [4187, 386], [4707, 386], [4850, 445], [4909, 588], [4909, 798], [4850, 940], [4707, 1000], [null, null], [5858, 1000], [5282, 1000], [5140, 940], [5080, 798], [5080, 202], [5140, 60], [5282, 1], [5909, 1], [5909, 213], [5338, 213], [5292, 213], [5292, 259], [5292, 341], [5292, 386], [5338, 386], [5858, 386], [6001, 445], [6061, 588], [6061, 798], [6001, 940], [5858, 1000], [null, null], [5292, 787], [5338, 787], [5803, 787], [5848, 787], [5848, 742], [5848, 646], [5848, 600], [5803, 600], [5292, 600], [5292, 742], [5292, 787], [null, null], [6972, 1000], [6760, 1000], [6760, 257], [6760, 212], [6714, 212], [6142, 212], [6142, 0], [6771, 0], [6913, 58], [6972, 201], [6972, 1000], [null, null], [7911, 1000], [7335, 1000], [7192, 940], [7133, 798], [7133, 588], [7140, 540], [7156, 493], [7140, 447], [7133, 398], [7133, 202], [7192, 60], [7335, 1], [7911, 1], [8043, 48], [8113, 166], [8113, 398], [8107, 445], [8090, 493], [8108, 539], [8113, 588], [8113, 798], [8054, 940], [7911, 1000], [null, null], [7345, 787], [7391, 787], [7855, 787], [7901, 787], [7901, 742], [7901, 646], [7901, 600], [7855, 600], [7391, 600], [7345, 600], [7345, 646], [7345, 742], [7345, 787], [null, null], [7345, 400], [7391, 400], [7855, 400], [7901, 400], [7901, 355], [7901, 260], [7901, 214], [7855, 214], [7391, 214], [7345, 214], [7345, 260], [7345, 355], [7345, 400], [null, null], [9065, 1000], [8488, 1000], [8355, 938], [8281, 787], [9008, 787], [9054, 787], [9054, 742], [9054, 656], [9054, 610], [9008, 610], [8488, 610], [8345, 550], [8285, 407], [8285, 202], [8345, 60], [8488, 1], [9065, 1], [9207, 60], [9266, 202], [9266, 798], [9207, 940], [9065, 1000], [null, null], [8499, 396], [8545, 396], [9054, 396], [9054, 259], [9054, 213], [9008, 213], [8545, 213], [8499, 213], [8499, 259], [8499, 350], [8499, 396], [null, null], [10216, 1000], [9640, 1000], [9497, 933], [9438, 785], [9438, 208], [9497, 63], [9640, 1], [10216, 1], [10359, 63], [10418, 208], [10418, 785], [10359, 933], [10216, 1000], [null, null], [10206, 402], [9764, 773], [10160, 773], [10206, 773], [10206, 728], [10206, 402], [null, null], [9650, 264], [9650, 590], [10092, 219], [9696, 219], [9650, 219], [9650, 264]]\n"
     ]
    }
   ],
   "source": [
    "# input a string and a font file => writes glyph commands in that font to Arduino file\n",
    "def getCommandsFromFont(text, font): \n",
    "    t = open('/Users/yonatanrozin/Documents/Arduino/MOL_Final/printerRobot/letterCommands.h', \"w\")\n",
    "    \n",
    "    startX = 0\n",
    "    \n",
    "    numLets = len(text)\n",
    "\n",
    "    letterCommands = []\n",
    "\n",
    "    for i in range(numLets): #for every letter:\n",
    "        letter = glyphcommands(font, text[i]).commands #get glyph commands for that letter\n",
    "        for j in range(len(letter)): #for each command: \n",
    "            anyRepeat = False\n",
    "#             print(\"move\" in str(letter[j]))\n",
    "            if (hasattr(letter[j], \"x\") and hasattr(letter[j], \"y\")): #if command is NOT closepath:\n",
    "                if (\"move\" in str(letter[j])): #if command is moveto:\n",
    "                    letterCommands.append([None,None]);\n",
    "                x = letter[j].x+startX\n",
    "                y = letter[j].y\n",
    "                letterCommands.append([x,y])\n",
    "            if (letter[j] == letter[-1]): #if command is the last in the letter:\n",
    "                startX+=advancefor(font, text[i]) #offset next letter's position according to advance\n",
    "    \n",
    "    lastX = None\n",
    "    lastY = None\n",
    "#     for c in range(len(letterCommands)):\n",
    "#         print(letterCommands[c][0] == letterCommands[c+1][0] and letterCommands[c+1][0] == letterCommands[c+2][0], letterCommands[c][0])\n",
    "        \n",
    "        \n",
    "    #quasi-infinity extremes for min/max values\n",
    "    xMin = 10000\n",
    "    yMin = 10000\n",
    "    yMax = -10000\n",
    "    \n",
    "    #get min x,y coords\n",
    "    for cmd in letterCommands:\n",
    "        if (cmd[0] != None): #for commands that are not PEN UP:\n",
    "            if (cmd[0] < xMin): #if command's x-coord is less than min\n",
    "                xMin = cmd[0] #x-coord = new min\n",
    "            if (cmd[1] < yMin): #repeat for y-coords\n",
    "                yMin = cmd[1]\n",
    "    \n",
    "    #offset all coords by min x,y so NEW min x,y = 0,0 (for JavaScript)\n",
    "    for cmd in letterCommands:\n",
    "        if (cmd[0] != None): #for commands that are not PEN UP:\n",
    "            cmd[0] -= xMin \n",
    "            cmd[1] -= yMin\n",
    "            if cmd[1] > yMax: #if normalized y-coord is greater than max:\n",
    "                yMax = cmd[1] #y-coord = new max\n",
    "    \n",
    "    yRatio = (1000/yMax) #get ratio of 1000:yMax\n",
    "    \n",
    "    for cmd in letterCommands: #multiply ALL coordinates by ratio\n",
    "        if (cmd[0] != None):\n",
    "            cmd[0] = int(cmd[0] * yRatio)\n",
    "            cmd[1] = int(cmd[1] * yRatio)\n",
    "    \n",
    "    \n",
    "    \n",
    "    letterCommands = str(letterCommands).replace(\"None\",\"null\")\n",
    "    commandsString = \"int letterCommands[][2] = \" + letterCommands.replace('[', \"{\").replace(\"]\",\"}\").replace(\"null\",\"NULL\")+\";\"\n",
    "    print(letterCommands)\n",
    "    t.write(commandsString)\n",
    "    t.close();\n",
    "    \n",
    "\n",
    "        \n",
    "getCommandsFromFont(\"1234567890\", f2)\n"
   ]
  },
  {
   "cell_type": "code",
   "execution_count": null,
   "metadata": {},
   "outputs": [],
   "source": []
  }
 ],
 "metadata": {
  "kernelspec": {
   "display_name": "Python 3",
   "language": "python",
   "name": "python3"
  },
  "language_info": {
   "codemirror_mode": {
    "name": "ipython",
    "version": 3
   },
   "file_extension": ".py",
   "mimetype": "text/x-python",
   "name": "python",
   "nbconvert_exporter": "python",
   "pygments_lexer": "ipython3",
   "version": "3.8.5"
  }
 },
 "nbformat": 4,
 "nbformat_minor": 4
}
